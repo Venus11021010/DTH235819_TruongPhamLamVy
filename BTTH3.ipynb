{
  "nbformat": 4,
  "nbformat_minor": 0,
  "metadata": {
    "colab": {
      "provenance": []
    },
    "kernelspec": {
      "name": "python3",
      "display_name": "Python 3"
    },
    "language_info": {
      "name": "python"
    }
  },
  "cells": [
    {
      "cell_type": "code",
      "execution_count": null,
      "metadata": {
        "colab": {
          "base_uri": "https://localhost:8080/"
        },
        "id": "Ac6TgonB6vpX",
        "outputId": "bd072163-166e-4df6-82ba-fc9f3f050d4b"
      },
      "outputs": [
        {
          "output_type": "stream",
          "name": "stdout",
          "text": [
            "Chương trình kiểm tra năm nhuần\n",
            "Nhập vào 1 năm:2222\n",
            "Năm  2222  không nhuần\n"
          ]
        }
      ],
      "source": [
        "# Câu 1 Chương 3 BTTH2\n",
        "print(\"Chương trình kiểm tra năm nhuần\")\n",
        "year=int(input(\"Nhập vào 1 năm:\"))\n",
        "if (year % 4 ==0 and year % 100 != 0) or year % 400 == 0:\n",
        " print(\"Năm \", year, \" là năm nhuần\")\n",
        "else:\n",
        " print(\"Năm \", year, \" không nhuần\")"
      ]
    },
    {
      "cell_type": "code",
      "source": [
        "# Câu 2\n",
        "print(\"Chương trình đếm số ngày trong tháng\")\n",
        "month=int(input(\"Nhập vào 1 tháng:\"))\n",
        "if month in (1,3,5,7,8,10,12):\n",
        " print(\"Tháng \", month, \" có 31 ngày\")\n",
        "elif month in (4,6,9,11):\n",
        " print(\"Tháng \", month, \" có 30 ngày\")\n",
        "elif month==2:\n",
        " year=int(input(\"Mời bạn nhập vào năm:\"))\n",
        " if (year % 4 ==0 and year % 100 != 0) or year % 400 ==0:\n",
        "  print(\"Tháng \",month, \" có 29 ngày\")\n",
        " else:\n",
        "  print(\"Tháng \", month, \" có 28 ngày\")\n",
        "else:\n",
        " print(\"Tháng \", month, \" không hợp lệ\")"
      ],
      "metadata": {
        "colab": {
          "base_uri": "https://localhost:8080/"
        },
        "id": "A-h4Tflh7T1G",
        "outputId": "35018618-a80b-4cd5-f51a-c3533d472878"
      },
      "execution_count": null,
      "outputs": [
        {
          "output_type": "stream",
          "name": "stdout",
          "text": [
            "Chương trình đếm số ngày trong tháng\n",
            "Nhập vào 1 tháng:3\n",
            "Tháng  3  có 31 ngày\n"
          ]
        }
      ]
    },
    {
      "cell_type": "code",
      "source": [
        "# Câu 3\n",
        "#ax^2+bx+c=0\n",
        "from math import sqrt\n",
        "print(\"Chương trình Giải Phương trình bậc 2\")\n",
        "a=float(input(\"Nhập a:\"))\n",
        "b=float(input(\"Nhập b:\"))\n",
        "c=float(input(\"Nhập c:\"))\n",
        "if a == 0:\n",
        " #bx+c=0\n",
        " if b == 0 and c ==0:\n",
        "  print(\"Vô số nghiệm\")\n",
        " elif b==0 and c !=0:\n",
        "  print(\"Vô nghiệm\")\n",
        " else:\n",
        "  x=-c/b\n",
        "  print(\"No x=\",x)\n",
        "else:\n",
        " delta=b**2-4*a*c\n",
        " if delta <0 :\n",
        "  print(\"Vô No\")\n",
        " elif delta ==0:\n",
        "  x=-b/(2*a)\n",
        "  print(\"No kép x1=x2=\",x)\n",
        " else:\n",
        "  x1=(-b-sqrt(delta))/(2*a)\n",
        "  x2=(-b+sqrt(delta))/(2*a)\n",
        "  print(\"x1=\",x1)\n",
        "  print(\"x2=\",x2)"
      ],
      "metadata": {
        "colab": {
          "base_uri": "https://localhost:8080/"
        },
        "id": "v5x9MhCM9uf_",
        "outputId": "ce1bd20f-d576-44b8-ef76-c1f25479ca33"
      },
      "execution_count": null,
      "outputs": [
        {
          "output_type": "stream",
          "name": "stdout",
          "text": [
            "Chương trình Giải Phương trình bậc 2\n",
            "Nhập a:2\n",
            "Nhập b:4\n",
            "Nhập c:6\n",
            "Vô No\n"
          ]
        }
      ]
    },
    {
      "cell_type": "markdown",
      "source": [
        "**Câu 4: Hãy cho biết kết quả của Boolean Expression**\n",
        "Yêu cầu:\n",
        "Cho x, y, z = 3, 5, 7. Hãy cho biết kết quả của Boolean Expression\n",
        "(a) x == 3 : True\n",
        "(b) x < y : True\n",
        "(c) x >= y : False\n",
        "(d) x <= y : True\n",
        "(e) x != y - 2 : False\n",
        "(f) x < 10 : True\n",
        "(g) x >= 0 and x < 10 : True\n",
        "(h) x < 0 and x < 10 : False\n",
        "(i) x >= 0 and x < 2 : False\n",
        "(j) x < 0 or x < 10 : True\n",
        "(k) x > 0 or x < 10 : True\n",
        "(l) x < 0 or x > 10 : False"
      ],
      "metadata": {
        "id": "qFyrAuyz-2Jo"
      }
    },
    {
      "cell_type": "markdown",
      "source": [
        "**Câu 5: Xuất ra màn hình kết quả:**\n",
        "(a) i = 3, j = 5, and k = 7\n",
        "  ==> i= 5; j= 5; k= 7\n",
        "(b) i = 3, j = 7, and k = 5\n",
        "  ==> i= 3; j= 5; k= 5\n",
        "(c) i = 5, j = 3, and k = 7\n",
        "  ==> i= 7; j= 3; k= 7\n",
        "(d) i = 5, j = 7, and k =3\n",
        "  ==> i= 5; j= 3; k= 3\n",
        "(e) i = 7, j = 3, and k = 5\n",
        "  ==> i= 5; j= 3; k= 5\n",
        "(f) i =7, j = 5, and k = 3\n",
        "  ==> i= 7; j= 7; k= 3"
      ],
      "metadata": {
        "id": "m0492HaN_DHL"
      }
    },
    {
      "cell_type": "code",
      "source": [],
      "metadata": {
        "id": "NH476yVIDIaG"
      },
      "execution_count": null,
      "outputs": []
    },
    {
      "cell_type": "code",
      "metadata": {
        "colab": {
          "base_uri": "https://localhost:8080/"
        },
        "id": "7ab6ecd8",
        "outputId": "89f27abc-5efc-4a6e-d289-fadaa21e6675"
      },
      "source": [
        "# Câu 6:\n",
        "def read_number(n):\n",
        "    units = [\"\", \"Một\", \"Hai\", \"Ba\", \"Bốn\", \"Năm\", \"Sáu\", \"Bảy\", \"Tám\", \"Chín\"]\n",
        "    tens = [\"\", \"Mười\", \"Hai Mươi\", \"Ba Mươi\", \"Bốn Mươi\", \"Năm Mươi\", \"Sáu Mươi\", \"Bảy Mươi\", \"Tám Mươi\", \"Chín Mươi\"]\n",
        "\n",
        "    if not 0 <= n <= 99:\n",
        "        return \"Số không hợp lệ (phải có tối đa 2 chữ số)\"\n",
        "\n",
        "    if n < 10:\n",
        "        return units[n]\n",
        "    elif n < 20:\n",
        "        if n == 10:\n",
        "            return \"Mười\"\n",
        "        elif n == 15:\n",
        "            return \"Mười Lăm\"\n",
        "        else:\n",
        "            return \"Mười \" + units[n % 10]\n",
        "    else:\n",
        "        if n % 10 == 0:\n",
        "            return tens[n // 10]\n",
        "        elif n % 10 == 5:\n",
        "            return tens[n // 10] + \" Lăm\"\n",
        "        elif n % 10 == 1:\n",
        "             return tens[n // 10] + \" Mốt\"\n",
        "        else:\n",
        "            return tens[n // 10] + \" \" + units[n % 10]\n",
        "\n",
        "# Lấy số nhập từ người dùng\n",
        "try:\n",
        "    number = int(input(\"Nhập một số có tối đa 2 chữ số: \"))\n",
        "    print(read_number(number))\n",
        "except ValueError:\n",
        "    print(\"Đầu vào không hợp lệ. Vui lòng nhập một số nguyên.\")"
      ],
      "execution_count": null,
      "outputs": [
        {
          "output_type": "stream",
          "name": "stdout",
          "text": [
            "Nhập một số có tối đa 2 chữ số: 44\n",
            "Bốn Mươi Bốn\n"
          ]
        }
      ]
    },
    {
      "cell_type": "code",
      "metadata": {
        "colab": {
          "base_uri": "https://localhost:8080/"
        },
        "id": "e524c174",
        "outputId": "7e057278-9422-4a32-b6a0-b8534f6da6da"
      },
      "source": [
        "# Câu 7\n",
        "day = int(input(\"Nhập ngày: \"))\n",
        "month = int(input(\"Nhập tháng: \"))\n",
        "year = int(input(\"Nhập năm: \"))\n",
        "if not 1 <= month <= 12:\n",
        "    print(\"Tháng không hợp lệ. Vui lòng nhập tháng từ 1 đến 12.\")\n",
        "else:\n",
        "    days_in_month = 0\n",
        "    if month in (1, 3, 5, 7, 8, 10, 12):\n",
        "        days_in_month = 31\n",
        "    elif month in (4, 6, 9, 11):\n",
        "        days_in_month = 30\n",
        "    elif month == 2:\n",
        "        if (year % 4 == 0 and year % 100 != 0) or year % 400 == 0:\n",
        "            days_in_month = 29\n",
        "        else:\n",
        "            days_in_month = 28\n",
        "\n",
        "    if not 1 <= day <= days_in_month:\n",
        "        print(f\"Ngày không hợp lệ. Tháng {month} năm {year} có {days_in_month} ngày.\")\n",
        "    else:\n",
        "        print(\"Ngày, tháng, năm hợp lệ.\")\n",
        "    days_in_month = 0\n",
        "if month in (1, 3, 5, 7, 8, 10, 12):\n",
        "    days_in_month = 31\n",
        "elif month in (4, 6, 9, 11):\n",
        "    days_in_month = 30\n",
        "elif month == 2:\n",
        "    if (year % 4 == 0 and year % 100 != 0) or year % 400 == 0:\n",
        "        days_in_month = 29\n",
        "    else:\n",
        "        days_in_month = 28\n",
        "if day < days_in_month:\n",
        "    day += 1\n",
        "elif day == days_in_month:\n",
        "    if month == 12:\n",
        "        day = 1\n",
        "        month = 1\n",
        "        year += 1\n",
        "    else:\n",
        "        day = 1\n",
        "        month += 1\n",
        "print(f\"{day}/{month}/{year}\")"
      ],
      "execution_count": null,
      "outputs": [
        {
          "output_type": "stream",
          "name": "stdout",
          "text": [
            "Nhập ngày: 2\n",
            "Nhập tháng: 45\n",
            "Nhập năm: 24\n",
            "Tháng không hợp lệ. Vui lòng nhập tháng từ 1 đến 12.\n",
            "3/45/24\n"
          ]
        }
      ]
    },
    {
      "cell_type": "code",
      "source": [],
      "metadata": {
        "id": "H_AD_xQHFodQ"
      },
      "execution_count": null,
      "outputs": []
    },
    {
      "cell_type": "code",
      "metadata": {
        "colab": {
          "base_uri": "https://localhost:8080/"
        },
        "id": "2656712b",
        "outputId": "5a08f7b8-3ba9-4731-ea10-8a2e43b374cb"
      },
      "source": [
        "# Câu 8\n",
        "try:\n",
        "    a = float(input(\"Nhập giá trị a: \"))\n",
        "    b = float(input(\"Nhập giá trị b: \"))\n",
        "    operator = input(\"Nhập phép toán (+, -, *, /): \")\n",
        "\n",
        "    if operator == '+':\n",
        "        result = a + b\n",
        "        print(f\"Kết quả: {a} + {b} = {result}\")\n",
        "    elif operator == '-':\n",
        "        result = a - b\n",
        "        print(f\"Kết quả: {a} - {b} = {result}\")\n",
        "    elif operator == '*':\n",
        "        result = a * b\n",
        "        print(f\"Kết quả: {a} * {b} = {result}\")\n",
        "    elif operator == '/':\n",
        "        if b == 0:\n",
        "            print(\"Lỗi: Không thể chia cho 0\")\n",
        "        else:\n",
        "            result = a / b\n",
        "            print(f\"Kết quả: {a} / {b} = {result}\")\n",
        "    else:\n",
        "        print(\"Phép toán không hợp lệ. Vui lòng nhập '+', '-', '*', hoặc '/'.\")\n",
        "\n",
        "except ValueError:\n",
        "    print(\"Đầu vào không hợp lệ. Vui lòng nhập số cho a và b.\")"
      ],
      "execution_count": null,
      "outputs": [
        {
          "output_type": "stream",
          "name": "stdout",
          "text": [
            "Nhập giá trị a: 5\n",
            "Nhập giá trị b: 4\n",
            "Nhập phép toán (+, -, *, /): +\n",
            "Kết quả: 5.0 + 4.0 = 9.0\n"
          ]
        }
      ]
    },
    {
      "cell_type": "code",
      "metadata": {
        "colab": {
          "base_uri": "https://localhost:8080/"
        },
        "id": "7763d332",
        "outputId": "324a2d96-25f3-476b-8c4d-278cdd1ad1df"
      },
      "source": [
        "# Câu 9\n",
        "try:\n",
        "    month = int(input(\"Nhập vào một tháng (từ 1 đến 12): \"))\n",
        "\n",
        "    if 1 <= month <= 3:\n",
        "        print(f\"Tháng {month} thuộc Quý 1\")\n",
        "    elif 4 <= month <= 6:\n",
        "        print(f\"Tháng {month} thuộc Quý 2\")\n",
        "    elif 7 <= month <= 9:\n",
        "        print(f\"Tháng {month} thuộc Quý 3\")\n",
        "    elif 10 <= month <= 12:\n",
        "        print(f\"Tháng {month} thuộc Quý 4\")\n",
        "    else:\n",
        "        print(\"Tháng không hợp lệ. Vui lòng nhập tháng từ 1 đến 12.\")\n",
        "\n",
        "except ValueError:\n",
        "    print(\"Đầu vào không hợp lệ. Vui lòng nhập một số nguyên cho tháng.\")"
      ],
      "execution_count": null,
      "outputs": [
        {
          "output_type": "stream",
          "name": "stdout",
          "text": [
            "Nhập vào một tháng (từ 1 đến 12): 5\n",
            "Tháng 5 thuộc Quý 2\n"
          ]
        }
      ]
    },
    {
      "cell_type": "code",
      "source": [
        "# Câu 10\n",
        "x=int(input(\"Nhập x:\"))\n",
        "n=int(input(\"Nhập N:\"))\n",
        "s=0\n",
        "for i in range(1,n+1):\n",
        " tu=x**i\n",
        " mau=1\n",
        " for j in range(1,i+1):\n",
        "  mau=mau*j\n",
        " s=s+(tu/mau)\n",
        "print(\"s({0},{1})={2}\".format(x,n,s))"
      ],
      "metadata": {
        "colab": {
          "base_uri": "https://localhost:8080/"
        },
        "id": "0fOJpRVSGcmC",
        "outputId": "25abbf29-0a77-4fd0-d0ce-146dfdb3d209"
      },
      "execution_count": null,
      "outputs": [
        {
          "output_type": "stream",
          "name": "stdout",
          "text": [
            "Nhập x:3\n",
            "Nhập N:2\n",
            "s(3,2)=7.5\n"
          ]
        }
      ]
    },
    {
      "cell_type": "code",
      "source": [
        "# Câu 11\n",
        "while True:\n",
        "    n = int(input(\"Nhập 1 số nguyên dương: \"))\n",
        "    dem = 0\n",
        "    for i in range(1, n + 1):\n",
        "        if n % i == 0:\n",
        "            dem += 1\n",
        "    if dem == 2:\n",
        "        print(n, \"Là số nguyên tố\")\n",
        "    else:\n",
        "        print(n, \"Không là số nguyên tố\")\n",
        "    hoi = input(\"Tiếp không Thím?(c/k):\")\n",
        "    if hoi == \"k\":\n",
        "        break\n",
        "print(\"BYE!\")"
      ],
      "metadata": {
        "colab": {
          "base_uri": "https://localhost:8080/"
        },
        "id": "zXywR_PBGp0U",
        "outputId": "b61abeb8-1bac-4b86-b0b4-c5aebdfdc6c8"
      },
      "execution_count": null,
      "outputs": [
        {
          "output_type": "stream",
          "name": "stdout",
          "text": [
            "Nhập 1 số nguyên dương: 4\n",
            "4 Không là số nguyên tố\n",
            "Tiếp không Thím?(c/k):c\n",
            "Nhập 1 số nguyên dương: 3\n",
            "3 Là số nguyên tố\n",
            "Tiếp không Thím?(c/k):k\n",
            "BYE!\n"
          ]
        }
      ]
    },
    {
      "cell_type": "code",
      "source": [
        "# Câu 12\n",
        "for i in range(1,11):\n",
        " for j in range(2,10):\n",
        "  line=\"{0}*{1:>2}={2:>2}\".format(j,i,i*j)\n",
        "  print(line,end='\\t')\n",
        " print()"
      ],
      "metadata": {
        "colab": {
          "base_uri": "https://localhost:8080/"
        },
        "id": "LdHS-r9yHAij",
        "outputId": "de21d370-8a0a-4a80-d6df-3452e0ac6914"
      },
      "execution_count": null,
      "outputs": [
        {
          "output_type": "stream",
          "name": "stdout",
          "text": [
            "2* 1= 2\t3* 1= 3\t4* 1= 4\t5* 1= 5\t6* 1= 6\t7* 1= 7\t8* 1= 8\t9* 1= 9\t\n",
            "2* 2= 4\t3* 2= 6\t4* 2= 8\t5* 2=10\t6* 2=12\t7* 2=14\t8* 2=16\t9* 2=18\t\n",
            "2* 3= 6\t3* 3= 9\t4* 3=12\t5* 3=15\t6* 3=18\t7* 3=21\t8* 3=24\t9* 3=27\t\n",
            "2* 4= 8\t3* 4=12\t4* 4=16\t5* 4=20\t6* 4=24\t7* 4=28\t8* 4=32\t9* 4=36\t\n",
            "2* 5=10\t3* 5=15\t4* 5=20\t5* 5=25\t6* 5=30\t7* 5=35\t8* 5=40\t9* 5=45\t\n",
            "2* 6=12\t3* 6=18\t4* 6=24\t5* 6=30\t6* 6=36\t7* 6=42\t8* 6=48\t9* 6=54\t\n",
            "2* 7=14\t3* 7=21\t4* 7=28\t5* 7=35\t6* 7=42\t7* 7=49\t8* 7=56\t9* 7=63\t\n",
            "2* 8=16\t3* 8=24\t4* 8=32\t5* 8=40\t6* 8=48\t7* 8=56\t8* 8=64\t9* 8=72\t\n",
            "2* 9=18\t3* 9=27\t4* 9=36\t5* 9=45\t6* 9=54\t7* 9=63\t8* 9=72\t9* 9=81\t\n",
            "2*10=20\t3*10=30\t4*10=40\t5*10=50\t6*10=60\t7*10=70\t8*10=80\t9*10=90\t\n"
          ]
        }
      ]
    },
    {
      "cell_type": "markdown",
      "source": [
        "**CÂU 13: **\n",
        "Dấu * được in ra mãi mãi. Không đếm được"
      ],
      "metadata": {
        "id": "StXBzYpUHz37"
      }
    },
    {
      "cell_type": "markdown",
      "source": [
        "**Câu 14:**\n",
        "Có 100 dòng (ứng với a chạy 0 → 99).\n",
        "Mỗi dòng chứa 20 dấu *.\n",
        "==> 100 x 20 = 2000 dấu *\n"
      ],
      "metadata": {
        "id": "KxEL8AcMI1Pi"
      }
    },
    {
      "cell_type": "markdown",
      "source": [
        "*Câu 15: Giải thích cách chạy các dòng lệnh range*\n",
        "Yêu cầu:\n",
        "(a) range(5) ==> [0, 1, 2, 3, 4]\n",
        "(b) range(5, 10) ==> [5, 6, 7, 8, 9]\n",
        "(c) range(5, 20, 3)\n",
        "==> [5, 8, 11, 14, 17]\n",
        "(d) range(20, 5, -1)\n",
        "==> [20, 19, 18, ..., 6]\n",
        "(e) range(20, 5, -3)\n",
        "==> [20, 17, 14, 11, 8]\n",
        "(f) range(10, 5) ==> Rỗng\n",
        "(g) range(0) ==> Rỗng\n",
        "(h) range(10, 101, 10)\n",
        "==> [10, 20, 30, 40, 50, 60, 70, 80, 90, 100]\n",
        "(i) range(10, -1, -1)\n",
        "==> [10, 9, 8, ..., 1, 0]\n",
        "(j) range(-3, 4)\n",
        "==> [-3, -2, -1, 0, 1, 2, 3]\n",
        "(k) range(0, 10, 1)\n",
        "==> [0, 1, 2, 3, 4, 5, 6, 7, 8, 9]"
      ],
      "metadata": {
        "id": "x2g-DwNYJLVb"
      }
    },
    {
      "cell_type": "markdown",
      "source": [
        "**Câu 16:**\n",
        "In ra 16 *\n",
        "Số phần tử = 100 - 200 / 5 = 16"
      ],
      "metadata": {
        "id": "3Fk6VuK3K75T"
      }
    },
    {
      "cell_type": "code",
      "source": [
        "# Câu 17\n",
        "should_break = False\n",
        "n, m = 0, 100\n",
        "while n != m and not should_break:\n",
        "    n =int(input())\n",
        "    if n<0:\n",
        "        should_break = True\n",
        "    print (\"n= \", n)"
      ],
      "metadata": {
        "colab": {
          "base_uri": "https://localhost:8080/"
        },
        "id": "nnHuNYhTLQZL",
        "outputId": "c7f801a5-b166-4bb7-b6fd-9eb378ed48df"
      },
      "execution_count": null,
      "outputs": [
        {
          "output_type": "stream",
          "name": "stdout",
          "text": [
            "-1\n",
            "n=  -1\n"
          ]
        }
      ]
    },
    {
      "cell_type": "code",
      "metadata": {
        "colab": {
          "base_uri": "https://localhost:8080/"
        },
        "id": "49094962",
        "outputId": "7dedb8c9-e747-4b13-d746-06c191ef9014"
      },
      "source": [
        "# Câu 18\n",
        "n = int(input(\"Nhập chiều cao n: \"))\n",
        "# Create the first shape (a right-angled triangle)\n",
        "for i in range(n):\n",
        "    for j in range(i + 1):\n",
        "        print('*', end='')\n",
        "    print()\n",
        "# Create the second shape (an inverted right-angled triangle)\n",
        "for i in range(n):\n",
        "    for j in range(n - i):\n",
        "        print('*', end='')\n",
        "    print()\n",
        "# Create the third shape (a right-aligned right-angled triangle)\n",
        "for i in range(n):\n",
        "    # Print leading spaces\n",
        "    for j in range(n - i - 1):\n",
        "        print(' ', end='')\n",
        "    # Print asterisks\n",
        "    for k in range(i + 1):\n",
        "        print('*', end='')\n",
        "    print()"
      ],
      "execution_count": null,
      "outputs": [
        {
          "output_type": "stream",
          "name": "stdout",
          "text": [
            "Nhập chiều cao n: 4\n",
            "*\n",
            "**\n",
            "***\n",
            "****\n",
            "****\n",
            "***\n",
            "**\n",
            "*\n",
            "   *\n",
            "  **\n",
            " ***\n",
            "****\n"
          ]
        }
      ]
    },
    {
      "cell_type": "code",
      "source": [
        "# Câu 19\n",
        "def S(x, n):\n",
        "    # trả về tổng S(x,n) dưới dạng float\n",
        "    t = x           # t_0 = x^{1}/1!\n",
        "    s = t\n",
        "    for k in range(n):\n",
        "        # chuyển từ t_k sang t_{k+1}\n",
        "        denom = (2*k+2)*(2*k+3)\n",
        "        t = t * (x*x) / denom\n",
        "        s += t\n",
        "    return s\n",
        "\n",
        "# ví dụ:\n",
        "if __name__ == \"__main__\":\n",
        "    import math\n",
        "    x = float(input(\"x = \"))\n",
        "    n = int(input(\"n = \"))\n",
        "    approx = S(x, n)\n",
        "    print(\"S(x,n) ≈\", approx)\n",
        "    # so sánh với sin(x) nếu muốn:\n",
        "    print(\"sin(x) =\", math.sin(x))\n"
      ],
      "metadata": {
        "colab": {
          "base_uri": "https://localhost:8080/"
        },
        "id": "aee0tfgKN3Vk",
        "outputId": "cd5df99d-cf02-4c7c-8c90-4a4ae79df5b6"
      },
      "execution_count": null,
      "outputs": [
        {
          "output_type": "stream",
          "name": "stdout",
          "text": [
            "x = 2\n",
            "n = 4\n",
            "S(x,n) ≈ 3.626807760141093\n",
            "sin(x) = 0.9092974268256817\n"
          ]
        }
      ]
    }
  ]
}